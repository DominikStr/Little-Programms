{
 "cells": [
  {
   "cell_type": "code",
   "execution_count": 1,
   "metadata": {},
   "outputs": [],
   "source": [
    "# Imports\n",
    "import numpy as np\n",
    "import matplotlib.pyplot as plt\n",
    "%matplotlib inline"
   ]
  },
  {
   "cell_type": "markdown",
   "metadata": {},
   "source": [
    "# Übungsblatt 3 (Stress)"
   ]
  },
  {
   "cell_type": "markdown",
   "metadata": {},
   "source": [
    "## 3.) Tractions and Faults\n",
    "\n",
    "Assume that the horizontal components of  the 2_D stress tensor are:\n",
    "\n",
    "\\begin{align}\n",
    "\\tau = \\begin{pmatrix} -30 & -20 \\\\ -20 & -40  \\end{pmatrix}\n",
    "\\end{align}\n",
    "\n",
    "a) Compute the normal and shear stresses on a fault that strikes $10^{\\circ}$ east of north.\n",
    "\n",
    "b) Compute the principal stresse, and give the azimuths (in degrees east of north) of maximum and minimum compressional stress axes."
   ]
  },
  {
   "cell_type": "code",
   "execution_count": 2,
   "metadata": {},
   "outputs": [
    {
     "name": "stdout",
     "output_type": "stream",
     "text": [
      "Stress on the plane: [14.48670973 35.91934657]\n",
      "Parallel Stress: [14.26662406  6.23732907]\n",
      "Perpendicular Stress: [  2.51559075 -35.37365098]\n"
     ]
    }
   ],
   "source": [
    "# a.)\n",
    "\n",
    "tau = np.array([[-30,-20],[-20, -40]]) #stress tensor\n",
    "\n",
    "n = np.array([np.sin( np.deg2rad(10)), -np.cos( np.deg2rad(10)) ]) #normal vector of the fault\n",
    "\n",
    "t = np.matmul(tau, n) #stress on the plane\n",
    "\n",
    "print(\"Stress on the plane: \" + str(t) )\n",
    "\n",
    "n_parallel = np.array([-n[1], n[0]]) # vector parallel to the fault\n",
    "n_perp = n\n",
    "\n",
    "t_parallel = t * n_parallel\n",
    "t_perp = t * n\n",
    "\n",
    "print(\"Parallel Stress: \" +str(t_parallel) )\n",
    "print(\"Perpendicular Stress: \" + str(t_perp) )"
   ]
  },
  {
   "cell_type": "code",
   "execution_count": 3,
   "metadata": {},
   "outputs": [
    {
     "name": "stdout",
     "output_type": "stream",
     "text": [
      "1st Eigenvektor:[0.78820544 0.61541221] with eigenvalue: -14.384471871911696\n",
      "2st Eigenvektor:[-0.61541221  0.78820544] with eigenvalue: -55.6155281280883\n",
      "\n",
      "Azimuth of maximum stress over north: -37.981878266036766\n",
      "Azimuth of minimum stress over north: 52.01812173396324\n"
     ]
    }
   ],
   "source": [
    "#b.) \n",
    "\n",
    "eigval, eigenvec = np.linalg.eig(tau)\n",
    "\n",
    "print( \"1st Eigenvektor:\" + str(eigenvec[0]) + \" with eigenvalue: \" + str(eigval[0]))\n",
    "print( \"2st Eigenvektor:\" + str(eigenvec[1]) + \" with eigenvalue: \" + str(eigval[1]) + \"\\n\")\n",
    "\n",
    "\n",
    "azi_max= np.arctan2( eigenvec[1][0], eigenvec[1][1])\n",
    "azi_min= np.arctan2( eigenvec[0][0], eigenvec[0][1])\n",
    "\n",
    "print(\"Azimuth of maximum stress over north: \" + str(np.rad2deg(azi_max)))\n",
    "print(\"Azimuth of minimum stress over north: \" + str(np.rad2deg(azi_min)))\n"
   ]
  },
  {
   "cell_type": "markdown",
   "metadata": {},
   "source": [
    "## 5.)\n",
    "a.) at  $5km$  depth  the  seismic  velocities  are  $v_p=6km/s$,  $v_s=3.5km/s$  and  the  density  is  $2700kg/m^3$.  Calculate  the  values  of  the  Lamé  parameters  in  Pascal. "
   ]
  },
  {
   "cell_type": "code",
   "execution_count": 4,
   "metadata": {},
   "outputs": [
    {
     "name": "stdout",
     "output_type": "stream",
     "text": [
      "mu is: 33075000000.0\n",
      "lambda is: 31050000000.0\n"
     ]
    }
   ],
   "source": [
    "v_p = 6 #km/s\n",
    "v_s = 3.5 #km/s\n",
    "rho = 2700 #kg/m^3 \n",
    "\n",
    "lame_mu = (v_s*1000)**2 * rho\n",
    "lame_lambda = (v_p*1000)**2 * rho - (2 * lame_mu)\n",
    "\n",
    "print(\"mu is: \" + str(lame_mu))\n",
    "print(\"lambda is: \" + str(lame_lambda))"
   ]
  },
  {
   "cell_type": "markdown",
   "metadata": {},
   "source": [
    "b.) After  the  Landers  earthquake  1992  (M7.3)  the  following  deformations  were  measured  80km  to  the  north  of  the  observatory:  $e11=-0.26x10^{-6}$,  $e12=-0.69x10^{-6}$,  $e22=0.92x10^{-6}$.  Indices  1  and  2  correspond  to  East  and  North,  resp.  Calculate  –assuming  that  these  values  are  also  true  at  depth  –the  changes  in  stress  at  5km  depth  with  the  results  from  (a).  Treat  this  is  a  2D  problem  and  neglect  stress  in  vertical  direction.  "
   ]
  },
  {
   "cell_type": "code",
   "execution_count": 5,
   "metadata": {},
   "outputs": [
    {
     "name": "stdout",
     "output_type": "stream",
     "text": [
      "The Stress is: [Pa] \n",
      "[[  3294.  -45643.5]\n",
      " [-45643.5  81351. ]]\n"
     ]
    }
   ],
   "source": [
    "#strain elements\n",
    "e_11 = -0.26 * 1e-6\n",
    "e_12 = e21 = -0.69 * 1e-6\n",
    "e_22 = 0.92 * 1e-6\n",
    "\n",
    "e_ij = np.array([[e_11, e_12], [e21, e_22]])\n",
    "\n",
    "o_ij = lame_lambda * np.trace(e_ij) * np.array([[1,0],[0,1]]) + 2 * lame_mu * e_ij\n",
    "\n",
    "print(\"The Stress is: [Pa] \")\n",
    "print( o_ij )"
   ]
  },
  {
   "cell_type": "markdown",
   "metadata": {},
   "source": [
    "c.) Calculate  the  dominant  stress  directions  (horizontal  as  azimuth  over  North).  Remember  this  is  an  eigenvalue  problem.  "
   ]
  },
  {
   "cell_type": "code",
   "execution_count": 6,
   "metadata": {},
   "outputs": [
    {
     "name": "stdout",
     "output_type": "stream",
     "text": [
      "1st Eigenvektor:[-0.90826312  0.41839945] with eigenvalue: -17732.08271023119\n",
      "2st Eigenvektor:[-0.41839945 -0.90826312] with eigenvalue: 102377.0827102312\n",
      "\n",
      "Azimuth over north: -155.2664204693054\n"
     ]
    }
   ],
   "source": [
    "eigenvalues, eigenvektors = np.linalg.eig(o_ij)\n",
    "\n",
    "print( \"1st Eigenvektor:\" + str(eigenvektors[0]) + \" with eigenvalue: \" + str(eigenvalues[0]))\n",
    "print( \"2st Eigenvektor:\" + str(eigenvektors[1]) + \" with eigenvalue: \" + str(eigenvalues[1]) + \"\\n\")\n",
    "\n",
    "Azimuth = np.arctan2( eigenvektors[1][0], eigenvektors[1][1])\n",
    "\n",
    "print(\"Azimuth over north: \" + str(np.rad2deg(Azimuth)))"
   ]
  },
  {
   "cell_type": "markdown",
   "metadata": {},
   "source": [
    "d.) The  yearly  deformation  rates  were  measured  as:  $e11=0.101x10^{-6}$,  $e12=0.005x10^{-6}$,  $e22=-0.02x10^{-6}$.  Assume  that  this  deformation  continues  for  1000  years.  Calculate  the  stress  change  at  5km  depth  using  results  from  a)."
   ]
  },
  {
   "cell_type": "code",
   "execution_count": 7,
   "metadata": {},
   "outputs": [
    {
     "name": "stdout",
     "output_type": "stream",
     "text": [
      "The Stress Change is: [Pa]\n",
      "[[9196200.  330750.]\n",
      " [ 330750. 1192050.]]\n"
     ]
    }
   ],
   "source": [
    "e2_11 = 0.101 * 10**(-6)  #strain per year\n",
    "e2_12 = e2_21 = 0.005 * 10**(-6)  #strain per year\n",
    "e2_22 = -0.020 * 10**(-6)  #strain per year\n",
    "\n",
    "a = 1000 #years \n",
    "\n",
    "e2_ij_r = np.array([[e2_11, e2_12], [e2_21, e2_22]]) #rate\n",
    "e2_ij = e2_ij_r * a  #total strain\n",
    "\n",
    "o2_ij = lame_lambda * np.trace(e2_ij) * np.array([[1,0],[0,1]]) + 2 * lame_mu * e2_ij\n",
    "\n",
    "print(\"The Stress Change is: [Pa]\")\n",
    "print( o2_ij )"
   ]
  },
  {
   "cell_type": "markdown",
   "metadata": {},
   "source": [
    "e.) A  farmer  owns  $1km^2$ near  the  observatory.  How  much  land  does  he  win  or  loose  every  year?  How  much  land  did  he  win  or  loose  with  the  Landers  earthquake?"
   ]
  },
  {
   "cell_type": "code",
   "execution_count": 8,
   "metadata": {},
   "outputs": [
    {
     "name": "stdout",
     "output_type": "stream",
     "text": [
      "Change Every Year: 81.0 in m^2\n",
      "Change after Landers: 0.66 in m^2\n"
     ]
    }
   ],
   "source": [
    "# every year:\n",
    "dA_every_year = np.trace(e2_ij_r)*a  # in km^2\n",
    "print(\"Change Every Year: \" + str( 1000**2 * dA_every_year) + \" in m^2\")\n",
    "\n",
    "# Landers:\n",
    "dA_every_year = np.trace(e_ij)  # in km^2\n",
    "print(\"Change after Landers: \" + str( 1000**2 * dA_every_year) + \" in m^2\")"
   ]
  },
  {
   "cell_type": "code",
   "execution_count": null,
   "metadata": {},
   "outputs": [],
   "source": [
    "# every year:\n",
    "dA_every_year =   # in km^2\n",
    "print(\"Change Every Year: \" + str( 1000**2 * dA_every_year) + \" in m^2\")\n",
    "\n",
    "# Landers:\n",
    "dA_every_year = 1 * np.trace(e_ij)  # in km^2\n",
    "print(\"Change after Landers: \" + str( 1000**2 * dA_every_year) + \" in m^2\")"
   ]
  }
 ],
 "metadata": {
  "kernelspec": {
   "display_name": "Python 3",
   "language": "python",
   "name": "python3"
  },
  "language_info": {
   "codemirror_mode": {
    "name": "ipython",
    "version": 3
   },
   "file_extension": ".py",
   "mimetype": "text/x-python",
   "name": "python",
   "nbconvert_exporter": "python",
   "pygments_lexer": "ipython3",
   "version": "3.6.5"
  }
 },
 "nbformat": 4,
 "nbformat_minor": 2
}
